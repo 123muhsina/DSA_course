{
  "nbformat": 4,
  "nbformat_minor": 0,
  "metadata": {
    "colab": {
      "provenance": []
    },
    "kernelspec": {
      "name": "python3",
      "display_name": "Python 3"
    },
    "language_info": {
      "name": "python"
    }
  },
  "cells": [
    {
      "cell_type": "code",
      "execution_count": null,
      "metadata": {
        "colab": {
          "base_uri": "https://localhost:8080/"
        },
        "id": "lXC4S4n3P0Jq",
        "outputId": "73db21e3-4657-45e1-9572-d5360cc18b11"
      },
      "outputs": [
        {
          "output_type": "stream",
          "name": "stdout",
          "text": [
            "Enter radius of circle 2\n",
            "area= 12.56\n"
          ]
        }
      ],
      "source": [
        "#1 Write a Python program which accepts the radius of a circle from the user and compute the area\n",
        "r= int(input(\"Enter radius of circle\"))\n",
        "area= 3.14*r*r\n",
        "print('area=',area)"
      ]
    },
    {
      "cell_type": "code",
      "source": [
        "#2 Write a Python Program to accept the details of a student like name, roll number and mark and display it.\n",
        "Name=input(\"Enter name\")\n",
        "Rollno=input(\"Enter roll number\")\n",
        "Marks=input(\"Enter marks\")\n",
        "print('Name:',Name)\n",
        "print('Roll No:', Rollno)\n",
        "print('Marks:', Marks)"
      ],
      "metadata": {
        "colab": {
          "base_uri": "https://localhost:8080/"
        },
        "id": "FDOoL8CdRF1j",
        "outputId": "93b14eda-20ed-4bc6-e137-3afeeb3e5940"
      },
      "execution_count": null,
      "outputs": [
        {
          "output_type": "stream",
          "name": "stdout",
          "text": [
            "Enter nameMuhsina\n",
            "Enter roll number31\n",
            "Enter marks45\n",
            "Name: Muhsina\n",
            "Roll No: 31\n",
            "Marks: 45\n"
          ]
        }
      ]
    },
    {
      "cell_type": "code",
      "source": [
        "#3Write a Python program to get the largest number from a list.\n",
        "\n",
        "numbers=[]\n",
        "for i in range(0,5):\n",
        "  a=int(input('enter value'))\n",
        "  numbers.append(a)\n",
        "max=numbers[0]\n",
        "for i in range(0,5):\n",
        "  if numbers[i]>max:\n",
        "   max=numbers[i]\n",
        "print ('Max=',max)\n"
      ],
      "metadata": {
        "id": "l4Px6qxMSEZ5",
        "colab": {
          "base_uri": "https://localhost:8080/"
        },
        "outputId": "2e19c1b0-1158-4b39-b06e-118b9e883e1b"
      },
      "execution_count": null,
      "outputs": [
        {
          "output_type": "stream",
          "name": "stdout",
          "text": [
            "enter value10\n",
            "enter value20\n",
            "enter value30\n",
            "enter value40\n",
            "enter value50\n",
            "Max= 50\n"
          ]
        }
      ]
    },
    {
      "cell_type": "code",
      "source": [
        "#4 Given a range of first 10 numbers, write a Python program to\n",
        "#iterate from start number to the end number and print the sum of the current number and previous number\n",
        "\n",
        "n=int(input(\"range\"))\n",
        "s=0\n",
        "for i in range(n+1):\n",
        " s= (i-1) + i\n",
        "print (\"current number\", i)\n",
        "print (\"previous no\" , i-1)\n",
        "print (\"sum is\", s)"
      ],
      "metadata": {
        "id": "FE80cS17O3hN",
        "colab": {
          "base_uri": "https://localhost:8080/"
        },
        "outputId": "4a2611f5-87c4-4397-fceb-36755fb0cdfd"
      },
      "execution_count": null,
      "outputs": [
        {
          "output_type": "stream",
          "name": "stdout",
          "text": [
            "range10\n",
            "current number 10\n",
            "previous no 9\n",
            "sum is 19\n"
          ]
        }
      ]
    },
    {
      "cell_type": "code",
      "source": [
        "#5 Write a Python program to print only those numbers which are divisible of 5\n",
        "\n",
        "n=int(input('how many numbers'))\n",
        "numbers=[]\n",
        "for i in range(n):\n",
        "  a=int(input('enter value'))\n",
        "  numbers.append(a)\n",
        "for i in range(n):\n",
        "  if (numbers[i]%5==0):\n",
        "   print(numbers[i])\n",
        "print('are divisible by 5')"
      ],
      "metadata": {
        "id": "MMdowMvuQkWo",
        "colab": {
          "base_uri": "https://localhost:8080/"
        },
        "outputId": "2828a523-71dd-4d39-eb20-c4fbe8735b76"
      },
      "execution_count": null,
      "outputs": [
        {
          "output_type": "stream",
          "name": "stdout",
          "text": [
            "how many numbers3\n",
            "enter value1\n",
            "enter value25\n",
            "enter value10\n",
            "25\n",
            "10\n",
            "are divisible by 5\n"
          ]
        }
      ]
    },
    {
      "cell_type": "code",
      "source": [
        "#6 Write a Python program to check whether a number is prime or not.\n",
        "\n",
        "div=0\n",
        "n=int(input('Enter the number'))\n",
        "for i in range(1,n+1):\n",
        " if (n%i==0):\n",
        "  div=div+1\n",
        "if (div==2):\n",
        "  print('prime')\n",
        "elif (div>2): print('not prime')\n",
        "else:print('neither prime nor composite')"
      ],
      "metadata": {
        "colab": {
          "base_uri": "https://localhost:8080/"
        },
        "id": "34QoxCKiqeVo",
        "outputId": "da817d39-0d44-41cd-cecb-005be788a13c"
      },
      "execution_count": null,
      "outputs": [
        {
          "output_type": "stream",
          "name": "stdout",
          "text": [
            "Enter the number12\n",
            "not prime\n"
          ]
        }
      ]
    },
    {
      "cell_type": "code",
      "source": [
        "#7 Write a Python program to reverse a list using for loop.\n",
        "\n",
        "n=int(input('how many numbers'))\n",
        "list1=[]\n",
        "list2=[]\n",
        "for i in range(n):\n",
        "  a=int(input('enter value'))\n",
        "  list1.append(a)\n",
        "for i in range(n,0):\n",
        "  list2[i-1]=list1[i]\n",
        "print (list2[0])\n"
      ],
      "metadata": {
        "id": "OtnrHEuJwozG"
      },
      "execution_count": null,
      "outputs": []
    },
    {
      "cell_type": "code",
      "source": [
        "#8 Write a Python program to print the following pattern.\n",
        "\"\"\"\n",
        "*\n",
        "**\n",
        "***\n",
        "****\n",
        "\"\"\"\n",
        "\n",
        "for i in range(4):\n",
        "  for n in range(0,i+1):\n",
        "   print(\"*\",end='')\n",
        "  print(\"\\n\")"
      ],
      "metadata": {
        "colab": {
          "base_uri": "https://localhost:8080/"
        },
        "id": "cOBRmd_tyiR6",
        "outputId": "b6214e0c-97f3-47f2-f402-163d4ed58dd3"
      },
      "execution_count": null,
      "outputs": [
        {
          "output_type": "stream",
          "name": "stdout",
          "text": [
            "*\n",
            "\n",
            "**\n",
            "\n",
            "***\n",
            "\n",
            "****\n",
            "\n"
          ]
        }
      ]
    },
    {
      "cell_type": "code",
      "source": [
        "#9 Write a Python program to find the maximum of three numbers\n",
        "\n",
        "a=int(input('enter first no'))\n",
        "b=int(input('enter second no'))\n",
        "c=int(input('enter third no'))\n",
        "if (b>a)and(b>c):\n",
        "  max=b\n",
        "elif (c>b) and (c>a):\n",
        " max=c\n",
        "else: a\n",
        "print (\"Max=\",max)\n"
      ],
      "metadata": {
        "colab": {
          "base_uri": "https://localhost:8080/"
        },
        "id": "M3a3ZKJncJzw",
        "outputId": "b574652e-f893-492c-f135-2b80826385a2"
      },
      "execution_count": null,
      "outputs": [
        {
          "output_type": "stream",
          "name": "stdout",
          "text": [
            "enter first no1\n",
            "enter second no2\n",
            "enter third no3\n",
            "Max= 3\n"
          ]
        }
      ]
    },
    {
      "cell_type": "code",
      "source": [
        "#10 Write a Python program to construct the following pattern, using a nested for loop.\n",
        "\n",
        "\"\"\"\n",
        "*\n",
        "**\n",
        "***\n",
        "****\n",
        "*****\n",
        "****\n",
        "***\n",
        "**\n",
        "* \"\"\"\n",
        "\n",
        "for i in range(5):\n",
        "  for n in range(0,i+1):\n",
        "   print(\"*\",end='')\n",
        "  print(\"\\n\")\n",
        "for k in range(4):\n",
        " for m in range(k,0,-1):\n",
        "  print(\"*\",end='')\n",
        " print(\"\\n\")\n"
      ],
      "metadata": {
        "id": "UWEylorReAqX",
        "colab": {
          "base_uri": "https://localhost:8080/"
        },
        "outputId": "cf7524ea-b9b2-4170-e3ad-5ef775762db6"
      },
      "execution_count": null,
      "outputs": [
        {
          "output_type": "stream",
          "name": "stdout",
          "text": [
            "*\n",
            "\n",
            "**\n",
            "\n",
            "***\n",
            "\n",
            "****\n",
            "\n",
            "*****\n",
            "\n",
            "\n",
            "\n",
            "*\n",
            "\n",
            "**\n",
            "\n",
            "***\n",
            "\n"
          ]
        }
      ]
    }
  ]
}