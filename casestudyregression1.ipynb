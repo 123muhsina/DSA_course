{
 "cells": [
  {
   "cell_type": "code",
   "execution_count": 1,
   "id": "f3164605",
   "metadata": {},
   "outputs": [
    {
     "name": "stdout",
     "output_type": "stream",
     "text": [
      "   Year   Price\n",
      "0  2018  465000\n",
      "1  2019  755000\n",
      "2  2019  700000\n",
      "3  2018  465000\n",
      "4  2018  465000\n"
     ]
    }
   ],
   "source": [
    "### 1. Data Exploration\n",
    "#First, let's load the dataset and explore its structure:\n",
    "import pandas as pd\n",
    "\n",
    "data = pd.read_csv('D:\\ictak_dsa\\car_age_price.csv')\n",
    "df = pd.DataFrame(data)\n",
    "print(data.head())"
   ]
  },
  {
   "cell_type": "code",
   "execution_count": 3,
   "id": "74f7c633",
   "metadata": {},
   "outputs": [],
   "source": [
    "### 2. Data Preprocessing\n",
    "#Next, let's prepare the data for modeling. We'll split the dataset into input (year) and output (price) variables.\n",
    "\n",
    "X = data['Year'].values.reshape(-1, 1)\n",
    "y = data['Price'].values\n"
   ]
  },
  {
   "cell_type": "code",
   "execution_count": 4,
   "id": "78c094b1",
   "metadata": {},
   "outputs": [
    {
     "name": "stdout",
     "output_type": "stream",
     "text": [
      "Linear Regression Mean Squared Error: 4326906256.829671\n"
     ]
    }
   ],
   "source": [
    "### 3. Linear Regression\n",
    "#Building a linear regression model:\n",
    "\n",
    "from sklearn.linear_model import LinearRegression\n",
    "from sklearn.model_selection import train_test_split\n",
    "from sklearn.metrics import mean_squared_error\n",
    "\n",
    "# Split the data into training and testing sets\n",
    "X_train, X_test, y_train, y_test = train_test_split(X, y, test_size=0.2, random_state=42)\n",
    "\n",
    "# Create and train the linear regression model\n",
    "lr_model = LinearRegression()\n",
    "lr_model.fit(X_train, y_train)\n",
    "\n",
    "# Make predictions\n",
    "lr_predictions = lr_model.predict(X_test)\n",
    "\n",
    "# Calculate the mean squared error\n",
    "lr_mse = mean_squared_error(y_test, lr_predictions)\n",
    "print(\"Linear Regression Mean Squared Error:\", lr_mse)"
   ]
  },
  {
   "cell_type": "code",
   "execution_count": 5,
   "id": "b454006d",
   "metadata": {},
   "outputs": [
    {
     "name": "stdout",
     "output_type": "stream",
     "text": [
      "Lasso Regression Mean Squared Error: 4326859771.015768\n"
     ]
    }
   ],
   "source": [
    "### 4. Lasso Regression\n",
    "#Now, let's create a Lasso regression model:\n",
    "\n",
    "\n",
    "from sklearn.linear_model import Lasso\n",
    "\n",
    "# Create and train the Lasso regression model\n",
    "lasso_model = Lasso(alpha=1.0) \n",
    "lasso_model.fit(X_train, y_train)\n",
    "\n",
    "# Make predictions\n",
    "lasso_predictions = lasso_model.predict(X_test)\n",
    "\n",
    "# Calculate the mean squared error\n",
    "lasso_mse = mean_squared_error(y_test, lasso_predictions)\n",
    "print(\"Lasso Regression Mean Squared Error:\", lasso_mse)"
   ]
  },
  {
   "cell_type": "code",
   "execution_count": 7,
   "id": "1819d61a",
   "metadata": {},
   "outputs": [
    {
     "name": "stdout",
     "output_type": "stream",
     "text": [
      "Predicted Price for a 2022 Model: 743599.3742714524\n"
     ]
    }
   ],
   "source": [
    "### 5. Model Evaluation\n",
    "#We have built both the linear regression and Lasso regression models. Now, let's compare their performance:\n",
    "\n",
    "#Lower Mean Squared Error (MSE) indicates a better model. \n",
    "\n",
    "#To predict the possible price of a 2022 model second-hand Grand i10, we can use the Lasso regression \n",
    "#modelto make predictions by plugging in the year 2022.\n",
    "\n",
    "year_2022 = 2022\n",
    "predicted_price_2022 = lasso_model.predict([[year_2022]])\n",
    "print(\"Predicted Price for a 2022 Model:\", predicted_price_2022[0])"
   ]
  },
  {
   "cell_type": "code",
   "execution_count": null,
   "id": "115e4e59",
   "metadata": {},
   "outputs": [],
   "source": []
  }
 ],
 "metadata": {
  "kernelspec": {
   "display_name": "Python 3 (ipykernel)",
   "language": "python",
   "name": "python3"
  },
  "language_info": {
   "codemirror_mode": {
    "name": "ipython",
    "version": 3
   },
   "file_extension": ".py",
   "mimetype": "text/x-python",
   "name": "python",
   "nbconvert_exporter": "python",
   "pygments_lexer": "ipython3",
   "version": "3.11.3"
  }
 },
 "nbformat": 4,
 "nbformat_minor": 5
}
