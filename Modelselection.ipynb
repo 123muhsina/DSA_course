{
 "cells": [
  {
   "cell_type": "code",
   "execution_count": 1,
   "id": "944bd3fa",
   "metadata": {},
   "outputs": [
    {
     "name": "stdout",
     "output_type": "stream",
     "text": [
      "   PassengerId  Survived  Pclass  \\\n",
      "0            1         0       3   \n",
      "1            2         1       1   \n",
      "2            3         1       3   \n",
      "3            4         1       1   \n",
      "4            5         0       3   \n",
      "\n",
      "                                                Name     Sex   Age  SibSp  \\\n",
      "0                            Braund, Mr. Owen Harris    male  22.0      1   \n",
      "1  Cumings, Mrs. John Bradley (Florence Briggs Th...  female  38.0      1   \n",
      "2                             Heikkinen, Miss. Laina  female  26.0      0   \n",
      "3       Futrelle, Mrs. Jacques Heath (Lily May Peel)  female  35.0      1   \n",
      "4                           Allen, Mr. William Henry    male  35.0      0   \n",
      "\n",
      "   Parch            Ticket     Fare Cabin Embarked  \n",
      "0      0         A/5 21171   7.2500   NaN        S  \n",
      "1      0          PC 17599  71.2833   C85        C  \n",
      "2      0  STON/O2. 3101282   7.9250   NaN        S  \n",
      "3      0            113803  53.1000  C123        S  \n",
      "4      0            373450   8.0500   NaN        S  \n"
     ]
    }
   ],
   "source": [
    "#Load the dataset into the Python environment\n",
    "import pandas as pd\n",
    "\n",
    "# Reading the data set\n",
    "titanic_data = pd.read_csv(\"D:/ictak_dsa/titanic_dataset .csv\")\n",
    "\n",
    "# Display the first few rows of the dataset\n",
    "print(titanic_data.head())"
   ]
  },
  {
   "cell_type": "code",
   "execution_count": 2,
   "id": "a4a04e8b",
   "metadata": {},
   "outputs": [
    {
     "name": "stdout",
     "output_type": "stream",
     "text": [
      "PassengerId      0\n",
      "Survived         0\n",
      "Pclass           0\n",
      "Name             0\n",
      "Sex              0\n",
      "Age            177\n",
      "SibSp            0\n",
      "Parch            0\n",
      "Ticket           0\n",
      "Fare             0\n",
      "Cabin          687\n",
      "Embarked         2\n",
      "dtype: int64\n"
     ]
    }
   ],
   "source": [
    "# Pre-processing steps\n",
    "# Check for missing values\n",
    "print(titanic_data.isnull().sum())\n",
    "\n",
    "# Handle missing values \n",
    "titanic_data['Age'].fillna(titanic_data['Age'].median(), inplace=True)\n",
    "titanic_data['Embarked'].fillna(titanic_data['Embarked'].mode()[0], inplace=True)\n",
    "titanic_data.drop(['Cabin'], axis=1, inplace=True)  # Assuming you want to drop the 'Cabin' column\n",
    "\n",
    "# Convert categorical variables to numerical\n",
    "titanic_data['Sex'] = titanic_data['Sex'].map({'male': 0, 'female': 1})\n",
    "titanic_data = pd.get_dummies(titanic_data, columns=['Embarked'])\n",
    "\n",
    "# Feature selection\n",
    "features = ['Pclass', 'Sex', 'Age', 'SibSp', 'Parch', 'Fare', 'Embarked_C', 'Embarked_Q', 'Embarked_S']\n",
    "X = titanic_data[features]\n",
    "y = titanic_data['Survived']"
   ]
  },
  {
   "cell_type": "code",
   "execution_count": 8,
   "id": "17ff9889",
   "metadata": {},
   "outputs": [
    {
     "data": {
      "text/plain": [
       "SVC(C=1, kernel='linear')"
      ]
     },
     "execution_count": 8,
     "metadata": {},
     "output_type": "execute_result"
    }
   ],
   "source": [
    "#Create kNN and SVM models\n",
    "from sklearn.model_selection import train_test_split\n",
    "from sklearn.preprocessing import StandardScaler\n",
    "from sklearn.neighbors import KNeighborsClassifier\n",
    "from sklearn.svm import SVC\n",
    "\n",
    "# Split the dataset into training and testing sets\n",
    "X_train, X_test, y_train, y_test = train_test_split(X, y, test_size=0.2, random_state=42)\n",
    "\n",
    "# Standardize the features\n",
    "scaler = StandardScaler()\n",
    "X_train_scaled = scaler.fit_transform(X_train)\n",
    "X_test_scaled = scaler.transform(X_test)\n",
    "\n",
    "# Create kNN model\n",
    "knn_model = KNeighborsClassifier(n_neighbors=5)\n",
    "knn_model.fit(X_train_scaled, y_train)\n",
    "\n",
    "# Create SVM model\n",
    "svm_model = SVC(kernel='linear', C=1)\n",
    "svm_model.fit(X_train_scaled, y_train)\n"
   ]
  },
  {
   "cell_type": "code",
   "execution_count": 9,
   "id": "7f46c378",
   "metadata": {},
   "outputs": [
    {
     "name": "stdout",
     "output_type": "stream",
     "text": [
      "kNN Model:\n",
      "Average Accuracy: 0.7978331527627303\n",
      "Stratified kNN Model:\n",
      "Average Accuracy: 0.7920811582783414\n",
      "SVM Model:\n",
      "Average Accuracy: 0.7879346006106569\n",
      "Stratified SVM Model:\n",
      "Average Accuracy: 0.7879247513050329\n"
     ]
    }
   ],
   "source": [
    "# Perform k-fold and stratified k-fold cross-validation\n",
    "from sklearn.model_selection import cross_val_score, StratifiedKFold, KFold\n",
    "\n",
    "# Perform cross-validation and print average accuracy\n",
    "def cross_val_and_print(model, X, y, cv):\n",
    "    scores = cross_val_score(model, X, y, cv=cv, scoring='accuracy')\n",
    "    print(f'Average Accuracy: {scores.mean()}')\n",
    "\n",
    "# k-fold cross-validation for kNN\n",
    "print(\"kNN Model:\")\n",
    "cross_val_and_print(knn_model, X_train_scaled, y_train, KFold(n_splits=5, shuffle=True, random_state=42))\n",
    "\n",
    "# Stratified k-fold cross-validation for kNN\n",
    "print(\"Stratified kNN Model:\")\n",
    "cross_val_and_print(knn_model, X_train_scaled, y_train, StratifiedKFold(n_splits=5, shuffle=True, random_state=42))\n",
    "\n",
    "# k-fold cross-validation for SVM\n",
    "print(\"SVM Model:\")\n",
    "cross_val_and_print(svm_model, X_train_scaled, y_train, KFold(n_splits=5, shuffle=True, random_state=42))\n",
    "\n",
    "# Stratified k-fold cross-validation for SVM\n",
    "print(\"Stratified SVM Model:\")\n",
    "cross_val_and_print(svm_model, X_train_scaled, y_train, StratifiedKFold(n_splits=5, shuffle=True, random_state=42))\n"
   ]
  },
  {
   "cell_type": "code",
   "execution_count": null,
   "id": "37bb178f",
   "metadata": {},
   "outputs": [],
   "source": []
  }
 ],
 "metadata": {
  "kernelspec": {
   "display_name": "Python 3 (ipykernel)",
   "language": "python",
   "name": "python3"
  },
  "language_info": {
   "codemirror_mode": {
    "name": "ipython",
    "version": 3
   },
   "file_extension": ".py",
   "mimetype": "text/x-python",
   "name": "python",
   "nbconvert_exporter": "python",
   "pygments_lexer": "ipython3",
   "version": "3.11.3"
  }
 },
 "nbformat": 4,
 "nbformat_minor": 5
}
