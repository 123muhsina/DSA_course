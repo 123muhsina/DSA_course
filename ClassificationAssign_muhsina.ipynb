{
 "cells": [
  {
   "cell_type": "code",
   "execution_count": 9,
   "id": "66355873",
   "metadata": {},
   "outputs": [
    {
     "name": "stdout",
     "output_type": "stream",
     "text": [
      "    SL   SW   PL   PW Classification\n",
      "0  5.1  3.5  1.4  0.2    Iris-setosa\n",
      "1  4.9  3.0  1.4  0.2    Iris-setosa\n",
      "2  NaN  3.2  1.3  0.2    Iris-setosa\n",
      "3  4.6  3.1  1.5  0.2    Iris-setosa\n",
      "4  5.0  3.6  1.4  0.2    Iris-setosa\n"
     ]
    }
   ],
   "source": [
    "#Read the dataset to Python environment\n",
    "import pandas as pd\n",
    "\n",
    "# Assuming the dataset is stored in a file named 'iris_dataset.csv'\n",
    "file_path = 'path_to_your_file/iris_dataset.csv'\n",
    "column_names = ['SL', 'SW', 'PL', 'PW', 'Classification']\n",
    "#iris_data = pd.read_csv(\"D:/ictak_dsa/iris.csv\", names=column_names)\n",
    "iris_data = pd.read_csv(\"D:/ictak_dsa/iris.csv\")\n",
    "\n",
    "# Display the first few rows of the dataset\n",
    "print(iris_data.head())\n"
   ]
  },
  {
   "cell_type": "code",
   "execution_count": 10,
   "id": "6efb462b",
   "metadata": {},
   "outputs": [
    {
     "name": "stdout",
     "output_type": "stream",
     "text": [
      "SL                7\n",
      "SW                6\n",
      "PL                6\n",
      "PW                0\n",
      "Classification    0\n",
      "dtype: int64\n"
     ]
    },
    {
     "name": "stderr",
     "output_type": "stream",
     "text": [
      "C:\\Users\\USER\\AppData\\Local\\Temp\\ipykernel_13280\\2869210469.py:7: FutureWarning: The default value of numeric_only in DataFrame.mean is deprecated. In a future version, it will default to False. In addition, specifying 'numeric_only=None' is deprecated. Select only valid columns or specify the value of numeric_only to silence this warning.\n",
      "  iris_data = iris_data.fillna(iris_data.mean())\n"
     ]
    }
   ],
   "source": [
    "#Necessary Pre-processing Steps\n",
    "# Check for missing values\n",
    "print(iris_data.isnull().sum())\n",
    "\n",
    "# Assuming there are missing values\n",
    "# Impute missing values with the mean\n",
    "iris_data = iris_data.fillna(iris_data.mean())\n",
    "\n",
    "# Convert the 'Classification' column to numerical labels.\n",
    "# from sklearn.preprocessing import LabelEncoder\n",
    "# le = LabelEncoder()\n",
    "# iris_data['Classification'] = le.fit_transform(iris_data['Classification'])\n",
    "\n",
    "# Split the data into features (X) and target variable (y)\n",
    "X = iris_data.drop('Classification', axis=1)\n",
    "y = iris_data['Classification']\n"
   ]
  },
  {
   "cell_type": "code",
   "execution_count": 11,
   "id": "b4992bb9",
   "metadata": {},
   "outputs": [
    {
     "name": "stdout",
     "output_type": "stream",
     "text": [
      "Logistic Regression Accuracy: 1.0\n",
      "Decision Tree Accuracy: 1.0\n",
      "Random Forest Accuracy: 1.0\n",
      "Support Vector Machine Accuracy: 1.0\n",
      "K-Nearest Neighbors Accuracy: 0.9666666666666667\n",
      "\n",
      "Confusion Matrix:\n",
      "[[10  0  0]\n",
      " [ 0  9  0]\n",
      " [ 0  0 11]]\n"
     ]
    }
   ],
   "source": [
    "#Model Evaluation\n",
    "from sklearn.model_selection import train_test_split\n",
    "from sklearn.metrics import accuracy_score, confusion_matrix\n",
    "from sklearn.linear_model import LogisticRegression\n",
    "from sklearn.tree import DecisionTreeClassifier\n",
    "from sklearn.ensemble import RandomForestClassifier\n",
    "from sklearn.svm import SVC\n",
    "from sklearn.neighbors import KNeighborsClassifier\n",
    "\n",
    "# Split the data into training and testing sets\n",
    "X_train, X_test, y_train, y_test = train_test_split(X, y, test_size=0.2, random_state=42)\n",
    "\n",
    "# Initialize and train different classification models\n",
    "models = {\n",
    "    'Logistic Regression': LogisticRegression(),\n",
    "    'Decision Tree': DecisionTreeClassifier(),\n",
    "    'Random Forest': RandomForestClassifier(),\n",
    "    'Support Vector Machine': SVC(),\n",
    "    'K-Nearest Neighbors': KNeighborsClassifier()\n",
    "}\n",
    "\n",
    "best_model = None\n",
    "best_accuracy = 0\n",
    "\n",
    "for name, model in models.items():\n",
    "    model.fit(X_train, y_train)\n",
    "    y_pred = model.predict(X_test)\n",
    "    accuracy = accuracy_score(y_test, y_pred)\n",
    "    \n",
    "    print(f'{name} Accuracy: {accuracy}')\n",
    "    \n",
    "    # Update best model if current model has higher accuracy\n",
    "    if accuracy > best_accuracy:\n",
    "        best_accuracy = accuracy\n",
    "        best_model = name\n",
    "\n",
    "# Display the best model\n",
    "# print(f'\\nBest Model: {best_model} with Accuracy: {best_accuracy}')\n",
    "\n",
    "# Display confusion matrix for the best model\n",
    "conf_matrix = confusion_matrix(y_test, models[best_model].predict(X_test))\n",
    "print('\\nConfusion Matrix:')\n",
    "print(conf_matrix)\n"
   ]
  },
  {
   "cell_type": "code",
   "execution_count": null,
   "id": "c168277e",
   "metadata": {},
   "outputs": [],
   "source": [
    "\n"
   ]
  }
 ],
 "metadata": {
  "kernelspec": {
   "display_name": "Python 3 (ipykernel)",
   "language": "python",
   "name": "python3"
  },
  "language_info": {
   "codemirror_mode": {
    "name": "ipython",
    "version": 3
   },
   "file_extension": ".py",
   "mimetype": "text/x-python",
   "name": "python",
   "nbconvert_exporter": "python",
   "pygments_lexer": "ipython3",
   "version": "3.11.3"
  }
 },
 "nbformat": 4,
 "nbformat_minor": 5
}
